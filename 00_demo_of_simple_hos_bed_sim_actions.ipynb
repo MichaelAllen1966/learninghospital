{
 "cells": [
  {
   "cell_type": "markdown",
   "metadata": {},
   "source": [
    "# A simple test of a simple environment\n",
    "\n",
    "Show effect of passing action to simple hospital bed sim.\n",
    "\n",
    "Actions are:\n",
    "    0: Request beds to be reduced by 10\n",
    "    1: Request beds to be reduced by 5\n",
    "    2: No change in beds requested\n",
    "    3: Request beds to be increased by 5\n",
    "    4: Request beds to be increased by 10\n",
    "    \n",
    "There is a delay between request for bed number change and the number of changes actually occuring (specified in self.delay_to_change_beds).\n",
    "\n",
    "The act method requests bed changes and then returns a tuple of:\n",
    "\n",
    "* obs: weekday, beds, patients, spare_beds, pending_bed_change\n",
    "* reward: -1 for each unoccupied bed, -3 for each patient without bed\n",
    "* terminal: if sim has reached specified duration\n",
    "* info: an empty dictionary"
   ]
  },
  {
   "cell_type": "code",
   "execution_count": 1,
   "metadata": {},
   "outputs": [],
   "source": [
    "from simpy_envs.env_simple_hospital_bed_1 import HospGym"
   ]
  },
  {
   "cell_type": "code",
   "execution_count": 2,
   "metadata": {},
   "outputs": [
    {
     "name": "stdout",
     "output_type": "stream",
     "text": [
      "Weekday: 1, Beds: 500, Patients: 380, Spare beds: 120, Pending bed change: -10\n",
      "Weekday: 2, Beds: 500, Patients: 386, Spare beds: 114, Pending bed change: -20\n",
      "Weekday: 3, Beds: 490, Patients: 402, Spare beds: 88, Pending bed change: -20\n",
      "Weekday: 4, Beds: 480, Patients: 422, Spare beds: 58, Pending bed change: -20\n",
      "Weekday: 5, Beds: 470, Patients: 470, Spare beds: 0, Pending bed change: -20\n"
     ]
    }
   ],
   "source": [
    "# Set up simulation\n",
    "sim = HospGym(delay_to_change_beds=3, sim_duration=5, render_env=True)\n",
    "# Reset simulation\n",
    "sim.reset()\n",
    "# Set initial indicator of whether sim is in terminal state\n",
    "terminal = False\n",
    "\n",
    "# Loop until sim_duration complete\n",
    "while not terminal:\n",
    "    # Pass action 1 (ask for reduction of 5 beds)\n",
    "    action_return = sim.step(1)\n",
    "    terminal = action_return[2]"
   ]
  },
  {
   "cell_type": "code",
   "execution_count": 3,
   "metadata": {},
   "outputs": [
    {
     "data": {
      "text/plain": [
       "([5, 470, 470, 0, -20], -23, True, {})"
      ]
     },
     "execution_count": 3,
     "metadata": {},
     "output_type": "execute_result"
    }
   ],
   "source": [
    "action_return"
   ]
  },
  {
   "cell_type": "markdown",
   "metadata": {},
   "source": [
    "## Illegal actions\n",
    "\n",
    "Show effect of illegal action (not in actions list)"
   ]
  },
  {
   "cell_type": "code",
   "execution_count": 4,
   "metadata": {},
   "outputs": [
    {
     "ename": "ValueError",
     "evalue": "Requested action not in list of allowed actions",
     "output_type": "error",
     "traceback": [
      "\u001b[0;31m---------------------------------------------------------------------------\u001b[0m",
      "\u001b[0;31mValueError\u001b[0m                                Traceback (most recent call last)",
      "\u001b[0;32m<ipython-input-4-e9490b9ca68e>\u001b[0m in \u001b[0;36m<module>\u001b[0;34m\u001b[0m\n\u001b[0;32m----> 1\u001b[0;31m \u001b[0maction_return\u001b[0m \u001b[0;34m=\u001b[0m \u001b[0msim\u001b[0m\u001b[0;34m.\u001b[0m\u001b[0mstep\u001b[0m\u001b[0;34m(\u001b[0m\u001b[0;36m5\u001b[0m\u001b[0;34m)\u001b[0m\u001b[0;34m\u001b[0m\u001b[0;34m\u001b[0m\u001b[0m\n\u001b[0m",
      "\u001b[0;32m~/Dropbox/01_Current_Projects/2007_learninghospital/simpy_envs/env_simple_hospital_bed_1.py\u001b[0m in \u001b[0;36mstep\u001b[0;34m(self, action)\u001b[0m\n\u001b[1;32m    399\u001b[0m \u001b[0;34m\u001b[0m\u001b[0m\n\u001b[1;32m    400\u001b[0m         \u001b[0;31m# Check action is legal (raise exception if not):\u001b[0m\u001b[0;34m\u001b[0m\u001b[0;34m\u001b[0m\u001b[0;34m\u001b[0m\u001b[0m\n\u001b[0;32m--> 401\u001b[0;31m         \u001b[0mself\u001b[0m\u001b[0;34m.\u001b[0m\u001b[0m_islegal\u001b[0m\u001b[0;34m(\u001b[0m\u001b[0maction\u001b[0m\u001b[0;34m)\u001b[0m\u001b[0;34m\u001b[0m\u001b[0;34m\u001b[0m\u001b[0m\n\u001b[0m\u001b[1;32m    402\u001b[0m \u001b[0;34m\u001b[0m\u001b[0m\n\u001b[1;32m    403\u001b[0m         \u001b[0;31m# Adjust pending bed change (tracks changes in beds due)\u001b[0m\u001b[0;34m\u001b[0m\u001b[0;34m\u001b[0m\u001b[0;34m\u001b[0m\u001b[0m\n",
      "\u001b[0;32m~/Dropbox/01_Current_Projects/2007_learninghospital/simpy_envs/env_simple_hospital_bed_1.py\u001b[0m in \u001b[0;36m_islegal\u001b[0;34m(self, action)\u001b[0m\n\u001b[1;32m    251\u001b[0m \u001b[0;34m\u001b[0m\u001b[0m\n\u001b[1;32m    252\u001b[0m         \u001b[0;32mif\u001b[0m \u001b[0maction\u001b[0m \u001b[0;32mnot\u001b[0m \u001b[0;32min\u001b[0m \u001b[0mself\u001b[0m\u001b[0;34m.\u001b[0m\u001b[0mactions\u001b[0m\u001b[0;34m:\u001b[0m\u001b[0;34m\u001b[0m\u001b[0;34m\u001b[0m\u001b[0m\n\u001b[0;32m--> 253\u001b[0;31m             \u001b[0;32mraise\u001b[0m \u001b[0mValueError\u001b[0m\u001b[0;34m(\u001b[0m\u001b[0;34m'Requested action not in list of allowed actions'\u001b[0m\u001b[0;34m)\u001b[0m\u001b[0;34m\u001b[0m\u001b[0;34m\u001b[0m\u001b[0m\n\u001b[0m\u001b[1;32m    254\u001b[0m \u001b[0;34m\u001b[0m\u001b[0m\n\u001b[1;32m    255\u001b[0m \u001b[0;34m\u001b[0m\u001b[0m\n",
      "\u001b[0;31mValueError\u001b[0m: Requested action not in list of allowed actions"
     ]
    }
   ],
   "source": [
    " action_return = sim.step(5)"
   ]
  },
  {
   "cell_type": "code",
   "execution_count": null,
   "metadata": {},
   "outputs": [],
   "source": []
  }
 ],
 "metadata": {
  "kernelspec": {
   "display_name": "Python 3",
   "language": "python",
   "name": "python3"
  },
  "language_info": {
   "codemirror_mode": {
    "name": "ipython",
    "version": 3
   },
   "file_extension": ".py",
   "mimetype": "text/x-python",
   "name": "python",
   "nbconvert_exporter": "python",
   "pygments_lexer": "ipython3",
   "version": "3.7.6"
  }
 },
 "nbformat": 4,
 "nbformat_minor": 4
}
