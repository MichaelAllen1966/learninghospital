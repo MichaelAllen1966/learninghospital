{
 "cells": [
  {
   "cell_type": "markdown",
   "metadata": {},
   "source": [
    "# A simple test of a simple environment\n",
    "\n",
    "Show effect of passing action to simple hospital bed sim.\n",
    "\n",
    "Actions are:\n",
    "    0: Request beds to be reduced by 10\n",
    "    1: Request beds to be reduced by 5\n",
    "    2: No change in beds requested\n",
    "    3: Request beds to be increased by 5\n",
    "    4: Request beds to be increased by 10\n",
    "    \n",
    "There is a delay between request for bed number change and the number of changes actually occuring (specified in self.delay_to_change_beds).\n",
    "\n",
    "The act method requests bed changes and then returns a tuple of:\n",
    "\n",
    "* obs: weekday, beds, patients, spare_beds, pending_bed_change\n",
    "* reward: -1 for each unoccupied bed, -3 for each patient without bed\n",
    "* terminal: if sim has reached specified duration\n",
    "* info: an empty dictionary"
   ]
  },
  {
   "cell_type": "code",
   "execution_count": 1,
   "metadata": {},
   "outputs": [],
   "source": [
    "from simpy_envs.env_simple_hospital_bed_1 import HospGym"
   ]
  },
  {
   "cell_type": "code",
   "execution_count": 2,
   "metadata": {},
   "outputs": [
    {
     "name": "stdout",
     "output_type": "stream",
     "text": [
      "Weekday: 0, Beds: 150, Patients: 150, Spare beds: 0, Pending bed change: -5\n",
      "([0, 150, 150, 0, -5], 0, False, {})\n",
      "Weekday: 0, Beds: 150, Patients: 163, Spare beds: -13, Pending bed change: -10\n",
      "([0, 150, 163, -13, -10], -39, False, {})\n",
      "Weekday: 0, Beds: 150, Patients: 179, Spare beds: -29, Pending bed change: -15\n",
      "([0, 150, 179, -29, -15], -87, False, {})\n",
      "Weekday: 0, Beds: 150, Patients: 188, Spare beds: -38, Pending bed change: -20\n",
      "([0, 150, 188, -38, -20], -114, False, {})\n",
      "Weekday: 1, Beds: 150, Patients: 203, Spare beds: -53, Pending bed change: -25\n",
      "([1, 150, 203, -53, -25], -159, False, {})\n",
      "Weekday: 1, Beds: 150, Patients: 209, Spare beds: -59, Pending bed change: -30\n",
      "([1, 150, 209, -59, -30], -177, False, {})\n",
      "Weekday: 1, Beds: 150, Patients: 224, Spare beds: -74, Pending bed change: -35\n",
      "([1, 150, 224, -74, -35], -222, False, {})\n",
      "Weekday: 1, Beds: 150, Patients: 233, Spare beds: -83, Pending bed change: -40\n",
      "([1, 150, 233, -83, -40], -249, False, {})\n",
      "Weekday: 2, Beds: 150, Patients: 242, Spare beds: -92, Pending bed change: -45\n",
      "([2, 150, 242, -92, -45], -276, False, {})\n",
      "Weekday: 2, Beds: 150, Patients: 246, Spare beds: -96, Pending bed change: -50\n",
      "([2, 150, 246, -96, -50], -288, False, {})\n",
      "Weekday: 2, Beds: 150, Patients: 268, Spare beds: -118, Pending bed change: -55\n",
      "([2, 150, 268, -118, -55], -354, False, {})\n",
      "Weekday: 2, Beds: 150, Patients: 270, Spare beds: -120, Pending bed change: -60\n",
      "([2, 150, 270, -120, -60], -360, False, {})\n",
      "Weekday: 3, Beds: 145, Patients: 281, Spare beds: -131, Pending bed change: -60\n",
      "([3, 145, 281, -131, -60], -393, False, {})\n",
      "Weekday: 3, Beds: 140, Patients: 289, Spare beds: -139, Pending bed change: -60\n",
      "([3, 140, 289, -139, -60], -417, False, {})\n",
      "Weekday: 3, Beds: 135, Patients: 297, Spare beds: -147, Pending bed change: -60\n",
      "([3, 135, 297, -147, -60], -441, False, {})\n",
      "Weekday: 3, Beds: 130, Patients: 299, Spare beds: -149, Pending bed change: -60\n",
      "([3, 130, 299, -149, -60], -447, False, {})\n",
      "Weekday: 4, Beds: 125, Patients: 304, Spare beds: -154, Pending bed change: -60\n",
      "([4, 125, 304, -154, -60], -462, False, {})\n",
      "Weekday: 4, Beds: 120, Patients: 307, Spare beds: -157, Pending bed change: -60\n",
      "([4, 120, 307, -157, -60], -471, False, {})\n",
      "Weekday: 4, Beds: 115, Patients: 315, Spare beds: -165, Pending bed change: -60\n",
      "([4, 115, 315, -165, -60], -495, False, {})\n",
      "Weekday: 4, Beds: 110, Patients: 322, Spare beds: -172, Pending bed change: -60\n",
      "([4, 110, 322, -172, -60], -516, False, {})\n",
      "Weekday: 5, Beds: 105, Patients: 313, Spare beds: -163, Pending bed change: -60\n",
      "([5, 105, 313, -163, -60], -489, True, {})\n"
     ]
    }
   ],
   "source": [
    "# Set up simulation\n",
    "sim = HospGym(delay_to_change_beds=3, sim_duration=5, render_env=True)\n",
    "# Reset simulation\n",
    "sim.reset()\n",
    "# Start time counter for steps in simulation\n",
    "next_stop = 0\n",
    "# Set initial indicator of whether sim is in terminal state\n",
    "terminal = False\n",
    "# Set time intervals between actions (days)\n",
    "time_step_between_actions = 0.25\n",
    "\n",
    "# Loop until sim_duration complete\n",
    "while not terminal:\n",
    "    # Next time for sim to stop and return control here\n",
    "    next_stop += time_step_between_actions\n",
    "    # Pass action 1 (ask for reduction of 5 beds)\n",
    "    action_return = sim.step(1)\n",
    "    print (action_return)\n",
    "    # Get whether terminal state is reached\n",
    "    terminal = action_return[2]\n",
    "    # Run environement to next stop (if not in terminal state)\n",
    "    if not terminal:\n",
    "        sim.env.run(until=next_stop)"
   ]
  },
  {
   "cell_type": "code",
   "execution_count": null,
   "metadata": {},
   "outputs": [],
   "source": []
  }
 ],
 "metadata": {
  "kernelspec": {
   "display_name": "Python 3",
   "language": "python",
   "name": "python3"
  },
  "language_info": {
   "codemirror_mode": {
    "name": "ipython",
    "version": 3
   },
   "file_extension": ".py",
   "mimetype": "text/x-python",
   "name": "python",
   "nbconvert_exporter": "python",
   "pygments_lexer": "ipython3",
   "version": "3.7.6"
  }
 },
 "nbformat": 4,
 "nbformat_minor": 4
}
